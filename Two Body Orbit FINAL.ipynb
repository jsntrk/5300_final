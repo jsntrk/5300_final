{
 "cells": [
  {
   "cell_type": "markdown",
   "metadata": {},
   "source": [
    "# Two Body Orbit\n",
    "This code solves for the motion of two bodies due to gravitational attraction.  We solve for the differential equations using the Lagrangian method, and impliment this in the `Orbit` class."
   ]
  },
  {
   "cell_type": "markdown",
   "metadata": {},
   "source": [
    "Here, our Lagrangian is the same as it ever was:\n",
    "\n",
    "$\\mathcal{L} = T - U$\n",
    "\n",
    "Where T is the total kinetic energy and U is the total potential energy. Our total kinetic energy is from the motion of the two bodies while the potential energy is from their gravitation attraction.  Thus, we can find our Lagrangian to be expressed as:\n",
    "\n",
    "$\\mathcal{L} = \\frac{1}{2} m_1 v_1^2 + \\frac{1}{2} m_2 v_2^2 + \\frac{G m_1 m_2}{r}$\n",
    "\n",
    "where $m_1$ and $m_2$ are the masses of the bodies, $v_1$ and $v_2$ are the respective velocities, r is the distance between them, and G is the gravitational constant. However, as we want to express this in Cartesian coordinates, we want to express $v_1$ and $v_2$ in terms of their x and y components. Therefore, we have\n",
    "\n",
    "$\\mathcal{L} = \\frac{1}{2} m_1 (\\dot x_1^2 + \\dot y_1^2) + \\frac{1}{2} m_2 (\\dot x_1^2 + \\dot y_1^2) + \\frac{G m_1 m_2}{r}$, and $r = \\sqrt{(x_1 - x_2)^2 + (y_1 - y_2)^2}$\n",
    "\n",
    "Now that we have or Lagranian expression, we can solve for the differential equations for $x_1$, $y_1$, $x_2$, and $y_2$. Beginning with $x_1$, we we can solve this with\n",
    "\n",
    "$\\frac{\\delta}{\\delta t}\\big(\\frac{\\delta \\mathcal{L}}{\\delta \\dot x_1}\\big) = \\frac{\\delta \\mathcal{L}}{\\delta x_1}$\n",
    "\n",
    "Taking this peice by peice,\n",
    "\n",
    "$\\frac{\\delta}{\\delta t}\\big(\\frac{\\delta \\mathcal{L}}{\\delta \\dot x_1}\\big) = m_1 \\ddot x_1 $\n",
    "\n",
    "and\n",
    "\n",
    "$\\frac{\\delta \\mathcal{L}}{\\delta x_1} = -Gm_1m_2(x_1-x_2)\\big((x_1-x_2)^2+(y_1-y_2)^2\\big)^{-3/2}$.\n",
    "\n",
    "Therefore we find\n",
    "\n",
    "$\\ddot x_1 = -Gm_2(x_1-x_2)\\big((x_1-x_2)^2+(y_1-y_2)^2\\big)^{-3/2}$.\n",
    "\n",
    "Similarly, we find\n",
    "\n",
    "$\\ddot y_1 = -Gm_2(y_1-y_2)\\big((x_1-x_2)^2+(y_1-y_2)^2\\big)^{-3/2}$\n",
    "\n",
    "$\\ddot x_2 = Gm_1(x_1-x_2)\\big((x_1-x_2)^2+(y_1-y_2)^2\\big)^{-3/2}$\n",
    "\n",
    "$\\ddot y_2 = Gm_1(y_1-y_2)\\big((x_1-x_2)^2+(y_1-y_2)^2\\big)^{-3/2}$\n",
    "\n",
    "These differential equations can be solved in the `Orbit` class.  The orbit class takes input for the initial positions of the masses and their initial velocities in Cartesian form. They will be returned from the `dy_dt` function and passed into the `solve_ode` function, which utalizes `solve_ivp`\n"
   ]
  },
  {
   "cell_type": "code",
   "execution_count": 1,
   "metadata": {},
   "outputs": [],
   "source": [
    "%matplotlib inline"
   ]
  },
  {
   "cell_type": "code",
   "execution_count": 2,
   "metadata": {},
   "outputs": [],
   "source": [
    "import numpy as np\n",
    "from scipy.integrate import odeint, solve_ivp\n",
    "import matplotlib.pyplot as plt"
   ]
  },
  {
   "cell_type": "code",
   "execution_count": 3,
   "metadata": {},
   "outputs": [],
   "source": [
    "class Orbit():\n",
    "    def __init__(self, G = 1., m1 = 10., m2 = 10.):\n",
    "        self.G = G\n",
    "        self.m1 = m1\n",
    "        self.m2 = m2\n",
    "        \n",
    "    def dy_dt(self, t, y):\n",
    "\n",
    "        x1, x2, y1, y2, vx1, vx2, vy1, vy2 = y\n",
    "        \n",
    "        x1_dot = vx1\n",
    "        x2_dot = vx2\n",
    "        y1_dot = vy1\n",
    "        y2_dot = vy2\n",
    "        \n",
    "        r = (x1-x2)**2 + (y1-y2)**2\n",
    "        \n",
    "        d = r**(3/2)\n",
    "        \n",
    "        x1_ddot = -self.G * self.m2 * (x1-x2) / d\n",
    "        x2_ddot = self.G * self.m1 * (x1-x2) / d\n",
    "        y1_ddot = -self.G * self.m2 * (y1-y2) / d\n",
    "        y2_ddot = self.G * self.m1 * (y1-y2) / d\n",
    "        \n",
    "        return x1_dot, x2_dot, y1_dot, y2_dot, x1_ddot, x2_ddot, y1_ddot, y2_ddot \n",
    "        \n",
    "    def solve_ode(self, t_pts, x1_0, x2_0, y1_0, y2_0, vx1_0, vx2_0, vy1_0, vy2_0, \n",
    "                  abserr=1.0e-10, relerr=1.0e-10):\n",
    "        \"\"\"\n",
    "        Solve the ODE given initial conditions.\n",
    "        Specify smaller abserr and relerr to get more precision.\n",
    "        \"\"\"\n",
    "        y = [x1_0, x2_0, y1_0, y2_0, vx1_0, vx2_0, vy1_0, vy2_0] \n",
    "        solution = solve_ivp(self.dy_dt, (t_pts[0], t_pts[-1]), \n",
    "                             y, t_eval=t_pts, \n",
    "                             atol=abserr, rtol=relerr)\n",
    "        x1, x2, y1, y2, vx1, vx2, vy1, vy2 = solution.y\n",
    "\n",
    "        return x1, x2, y1, y2, vx1, vx2, vy1, vy2"
   ]
  },
  {
   "cell_type": "code",
   "execution_count": 4,
   "metadata": {},
   "outputs": [],
   "source": [
    "t_start = 0.\n",
    "t_end = 1000.\n",
    "delta_t = 0.001\n",
    "\n",
    "t_pts = np.arange(t_start, t_end+delta_t, delta_t)\n",
    "\n",
    "\n",
    "G = 1.\n",
    "m1 = 10.\n",
    "m2 = 10.\n",
    "\n",
    "Or1 = Orbit(G = G, m1 = m1, m2 = m2)"
   ]
  },
  {
   "cell_type": "code",
   "execution_count": 5,
   "metadata": {},
   "outputs": [],
   "source": [
    "x1_0 = -3.5\n",
    "vx1_0 = -0.5\n",
    "\n",
    "x2_0 = 1.5\n",
    "vx2_0 = -(m1/m2) * vx1_0\n",
    "\n",
    "y1_0 = 0. \n",
    "vy1_0 = 1.\n",
    "\n",
    "y2_0 = -1.5\n",
    "vy2_0 = -(m1/m2) * vy1_0\n",
    "\n",
    "x1, x2, y1, y2, vx1, vx2, vy1, vy2 = Or1.solve_ode(t_pts, x1_0, x2_0, y1_0, y2_0, vx1_0, vx2_0, vy1_0, vy2_0)"
   ]
  },
  {
   "cell_type": "code",
   "execution_count": 6,
   "metadata": {},
   "outputs": [
    {
     "data": {
      "text/plain": [
       "<matplotlib.legend.Legend at 0x10530aa58>"
      ]
     },
     "execution_count": 6,
     "metadata": {},
     "output_type": "execute_result"
    },
    {
     "data": {
      "image/png": "[encoded data removed]",
      "text/plain": [
       "<Figure size 720x720 with 1 Axes>"
      ]
     },
     "metadata": {
      "needs_background": "light"
     },
     "output_type": "display_data"
    }
   ],
   "source": [
    "fig = plt.figure(figsize=(10,10))\n",
    "overall_title = rf'Motion of Masses: $m_1 = {m1:.1f},$ $m_1 = {m2:.1f},$'\n",
    "fig.suptitle(overall_title, va='baseline')\n",
    "\n",
    "ax_a = fig.add_subplot(1,1,1)\n",
    "ax_a.plot(x1, y1, color = 'blue', label = 'mass 1')\n",
    "ax_a.plot(x2, y2, color = 'red', label = 'mass 2')\n",
    "ax_a.axis('equal')\n",
    "ax_a.legend(loc = 'upper right')"
   ]
  },
  {
   "cell_type": "markdown",
   "metadata": {},
   "source": [
    "Above shows the motion of the two masses, each set to 10.  We see that they fall into an orbit with the given the inital position of $m_1$ is (-3.5, 0),  $v_1$ = (-0.5, 1), and the position of $m_2$ = (1.5, -1.5), and $v_2$ = (0.5, -1). Their orbit is slightly eliptical here.\n",
    "\n",
    "We will now see how they behave when one mass is much larger than the other.  We will keep the inial conditions the same, despite setting $m_1$ to 10000 and keeping $m_2$ at 10."
   ]
  },
  {
   "cell_type": "code",
   "execution_count": 7,
   "metadata": {},
   "outputs": [],
   "source": [
    "t_start = 0.\n",
    "t_end = 10.\n",
    "delta_t = 0.001\n",
    "\n",
    "t_pts = np.arange(t_start, t_end+delta_t, delta_t)\n",
    "\n",
    "\n",
    "G = 1.\n",
    "m1 = 1000.\n",
    "m2 = 10.\n",
    "\n",
    "Or1 = Orbit(G = G, m1 = m1, m2 = m2)"
   ]
  },
  {
   "cell_type": "code",
   "execution_count": 8,
   "metadata": {},
   "outputs": [],
   "source": [
    "x1_0 = -3.5\n",
    "vx1_0 = 0.\n",
    "\n",
    "x2_0 = 10\n",
    "vx2_0 = -1\n",
    "\n",
    "y1_0 = 0. \n",
    "vy1_0 = 0.\n",
    "\n",
    "y2_0 = 0\n",
    "vy2_0 = -1\n",
    "\n",
    "x1, x2, y1, y2, vx1, vx2, vy1, vy2 = Or1.solve_ode(t_pts, x1_0, x2_0, y1_0, y2_0, vx1_0, vx2_0, vy1_0, vy2_0)"
   ]
  },
  {
   "cell_type": "code",
   "execution_count": 9,
   "metadata": {},
   "outputs": [
    {
     "data": {
      "text/plain": [
       "<matplotlib.legend.Legend at 0x106099fd0>"
      ]
     },
     "execution_count": 9,
     "metadata": {},
     "output_type": "execute_result"
    },
    {
     "data": {
      "image/png": "[encoded data removed]",
      "text/plain": [
       "<Figure size 720x720 with 1 Axes>"
      ]
     },
     "metadata": {
      "needs_background": "light"
     },
     "output_type": "display_data"
    }
   ],
   "source": [
    "fig = plt.figure(figsize=(10,10))\n",
    "overall_title = rf'Motion of Masses: $m_1 = {m1:.1f},$ $m_1 = {m2:.1f},$'\n",
    "fig.suptitle(overall_title, va='baseline')\n",
    "\n",
    "ax_a = fig.add_subplot(1,1,1)\n",
    "ax_a.plot(x1, y1,'o', color = 'blue', label = 'mass 1')\n",
    "ax_a.plot(x2, y2, color = 'red', label = 'mass 2')\n",
    "ax_a.axis('equal')\n",
    "ax_a.legend(loc = 'upper right')"
   ]
  },
  {
   "cell_type": "markdown",
   "metadata": {},
   "source": [
    "This shows the motion when one mass is much larger than the other. $m_1$ is 100 times larger than $m_2$, and has no initial velocity.  $m_2$ is given an itianl velocity of (-1,-1), ans is quickly pulled in towards $m_1$. We see that $m_2$ orbits around $m_1$, while $m_1$ is only slightly affected by the other's orbit.  "
   ]
  },
  {
   "cell_type": "code",
   "execution_count": null,
   "metadata": {},
   "outputs": [],
   "source": []
  }
 ],
 "metadata": {
  "kernelspec": {
   "display_name": "Python 3",
   "language": "python",
   "name": "python3"
  },
  "language_info": {
   "codemirror_mode": {
    "name": "ipython",
    "version": 3
   },
   "file_extension": ".py",
   "mimetype": "text/x-python",
   "name": "python",
   "nbconvert_exporter": "python",
   "pygments_lexer": "ipython3",
   "version": "3.7.1"
  }
 },
 "nbformat": 4,
 "nbformat_minor": 2
}
